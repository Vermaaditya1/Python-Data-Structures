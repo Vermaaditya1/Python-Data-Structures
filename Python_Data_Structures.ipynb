{
  "nbformat": 4,
  "nbformat_minor": 0,
  "metadata": {
    "colab": {
      "provenance": []
    },
    "kernelspec": {
      "name": "python3",
      "display_name": "Python 3"
    },
    "language_info": {
      "name": "python"
    }
  },
  "cells": [
    {
      "cell_type": "markdown",
      "source": [
        "## **Data Types and Structures Question**"
      ],
      "metadata": {
        "id": "yKfKZu3DpdSJ"
      }
    },
    {
      "cell_type": "markdown",
      "source": [
        "1) what are data structures and why are they important?\n",
        "\n",
        "Ans) Data structures in python are used to store, access and modify the data efficiently"
      ],
      "metadata": {
        "id": "zTgIrCw2Ac3T"
      }
    },
    {
      "cell_type": "markdown",
      "source": [
        "2) Explain the difference between mutable and immutable data types with example?\n",
        "\n",
        "Ans) The main difference between mutable and immutable data types are that mutable data type can be modified after the creation but on the other hand immutable data type cannot be modified after the creation.\n",
        "for example:\n",
        "mutable data type - lists, dictionaries, and sets\n",
        "immutable data types - tuple and strings"
      ],
      "metadata": {
        "id": "rXiXKEiBAdcz"
      }
    },
    {
      "cell_type": "markdown",
      "source": [
        "3) What are the main differnece between lists and tuples in python?\n",
        "\n",
        "Ans) lists are mutable and tuples are immutable. lists are created using square brackets [] and tuples are created using round brackets ()\n"
      ],
      "metadata": {
        "id": "GYLA5EGO_55E"
      }
    },
    {
      "cell_type": "markdown",
      "source": [
        "4) Describe how dictionaries store data?\n",
        "\n",
        "\n",
        "Ans) It stores data in key value pair and do not allow duplicates\n",
        "ex: my_dict = {\"name\":\"Aditya\"}"
      ],
      "metadata": {
        "id": "Lxho0o5FA0Kc"
      }
    },
    {
      "cell_type": "markdown",
      "source": [
        "5) why might you use a set instead of list in python?\n",
        "\n",
        "Ans) The main reason to use set instead of list in python that set does not allow duplicates and it is also and it doesn't store data in order like list"
      ],
      "metadata": {
        "id": "6dKvq9maA0Ha"
      }
    },
    {
      "cell_type": "markdown",
      "source": [
        "6) what is a string in python and how it is different from list?\n",
        "\n",
        "Ans) String takes only character values between single or double quotes while lists can be considered as a bag which holds any type of data it can be integer, float, string, boolean or imaginary"
      ],
      "metadata": {
        "id": "VN9uXMs7A0Ex"
      }
    },
    {
      "cell_type": "markdown",
      "source": [
        "7) how do tuples ensure data integrity in python?\n",
        "\n",
        "Ans) Tuples are immutable data types which ensures that their contents cannot be modified ever."
      ],
      "metadata": {
        "id": "Zgspvy6BA0CZ"
      }
    },
    {
      "cell_type": "markdown",
      "source": [
        "8) What is a hash table and how does it relate to dictionaries in python?\n",
        "\n",
        "Ans) A hash table is a table which stores data in key value pair and the key is generated using the hash function, it relates to dictionaries because it also saves the data as key value pair."
      ],
      "metadata": {
        "id": "q77of5QIAz_x"
      }
    },
    {
      "cell_type": "markdown",
      "source": [
        "9)  can lists contain different type of data types in python?\n",
        "\n",
        "Ans) Yes list can contain any type of data. It is an hetrogeneous data type"
      ],
      "metadata": {
        "id": "q6VwocexAz9S"
      }
    },
    {
      "cell_type": "markdown",
      "source": [
        "10) Explain why strings are immutable in python\n",
        "\n",
        "Ans) Strings are immutable in python which means it cannot be change or modified after the creation.\n"
      ],
      "metadata": {
        "id": "HjW4zOAiAzw6"
      }
    },
    {
      "cell_type": "markdown",
      "source": [
        "11) What advantages do dictionaries offer over lists for certain tasks\n",
        "\n",
        "Ans) In tasks like searching dictionaries are prefered over lists because lists contain duplicate values and in searching it will create mess to find a specific value"
      ],
      "metadata": {
        "id": "FYnEHIPkGavY"
      }
    },
    {
      "cell_type": "markdown",
      "source": [
        "12) Describe a scenario where using tuple would be preferable over a list\n",
        "\n",
        "Ans) In scenario where you dont need to change the data after the creation"
      ],
      "metadata": {
        "id": "KsTkseN5Gas-"
      }
    },
    {
      "cell_type": "markdown",
      "source": [
        "13) How do sets handle duplication values in python\n",
        "\n",
        "Ans) It checks for duplicate every time we print the data if found then then dump else append."
      ],
      "metadata": {
        "id": "v5kUmh-dGaob"
      }
    },
    {
      "cell_type": "markdown",
      "source": [
        "14) how does 'in' keyword work differently for lists and dictionaries?\n",
        "\n",
        "Ans) list - the 'in' keywords iterates through the list and if the value matches to the data and if found it return True else return False\n",
        "\n",
        "dictionaries- The in keyword checks only the keys of the dictionary, not the values but returns true or false\n"
      ],
      "metadata": {
        "id": "xDlBcSXFGald"
      }
    },
    {
      "cell_type": "markdown",
      "source": [
        "15) can you modify the elements of tuple? explain why or why not.\n",
        "\n",
        "Ans) We cannot modify the elements of tuple because it is immutable."
      ],
      "metadata": {
        "id": "hC2Ss5EKGajN"
      }
    },
    {
      "cell_type": "markdown",
      "source": [
        "16) what is a nested dictionary and give an example of its use case?\n",
        "\n",
        "Ans) A nested dictionary is dictionary inside dictionary. It is a collection of dictionaries into one single dictionary\n",
        "\n",
        "my_dict = {\n",
        "  \"Aditya\" : {\n",
        "    \"Age\":20,\n",
        "    \"qualification\" : \"Bachelor\",\n",
        "  },\n",
        "  \"Adi\" : {\n",
        "    \"Age\" : 19,\n",
        "    \"qualification\" : \"Undergraduate\"\n",
        "  }\n",
        "}"
      ],
      "metadata": {
        "id": "f0rf1v0oGagl"
      }
    },
    {
      "cell_type": "markdown",
      "source": [
        "17) Describe the time complexity if accessing elements in a dictionary\n",
        "\n",
        "Ans) O(1), dictionary use to save data in key value pair. It takes constant time to search a value."
      ],
      "metadata": {
        "id": "mpjsViRXGaeY"
      }
    },
    {
      "cell_type": "markdown",
      "source": [
        "18) In what situations are lists prefered over dictionaries?\n",
        "\n",
        "Ans) A list can store multiple items in one variable and be created using square brackets. Dictionaries are used to store data values in key value pairs. A dictionary is an ordered, changeable collection, and does not allow duplicates"
      ],
      "metadata": {
        "id": "A7itsPflGabl"
      }
    },
    {
      "cell_type": "markdown",
      "source": [
        "19) why are dictionaires considered unordered, and how does that affect data retrieval?\n",
        "\n",
        "Ans) Dictionaries are considered unordered because they store data using a hash table which prioritizes fast key based lookups over maintaining a sequence"
      ],
      "metadata": {
        "id": "5cBAeOBvGaY9"
      }
    },
    {
      "cell_type": "markdown",
      "source": [
        "20) Explain the difference between a list and a dictionary in terms of data retrieval?\n",
        "\n",
        "Ans) List Retrieval is based on the index number while Dictionary Retrieval is based on the key which is a unique identifier"
      ],
      "metadata": {
        "id": "7msRxEa8GaWd"
      }
    },
    {
      "cell_type": "markdown",
      "source": [
        "# **Practical Questions**"
      ],
      "metadata": {
        "id": "gbsXYBk_pWYD"
      }
    },
    {
      "cell_type": "code",
      "source": [
        "## 1. Write a code to create a string with your name and print it\n",
        "\n",
        "name = 'Aditya Verma'\n",
        "\n",
        "print(\"My name is\",name)"
      ],
      "metadata": {
        "colab": {
          "base_uri": "https://localhost:8080/"
        },
        "id": "_citX7Ctn9b-",
        "outputId": "b275add1-0198-41d1-e78b-a94cd9b16f43"
      },
      "execution_count": null,
      "outputs": [
        {
          "output_type": "stream",
          "name": "stdout",
          "text": [
            "My name is Aditya Verma\n"
          ]
        }
      ]
    },
    {
      "cell_type": "code",
      "source": [
        "## 2. Write a code to find the length of the string \"Hello world\"\n",
        "\n",
        "str_ = 'Hello World'\n",
        "print(len(str_))"
      ],
      "metadata": {
        "colab": {
          "base_uri": "https://localhost:8080/"
        },
        "id": "KcPWUgDxn9Yf",
        "outputId": "d0904317-779f-49d5-9033-eaaab0fb3979"
      },
      "execution_count": null,
      "outputs": [
        {
          "output_type": "stream",
          "name": "stdout",
          "text": [
            "11\n"
          ]
        }
      ]
    },
    {
      "cell_type": "code",
      "source": [
        "## 3. write a code to slice the first 3 characters from the string \"Python programming\"\n",
        "\n",
        "a = \"Python programming\"\n",
        "a[3:]"
      ],
      "metadata": {
        "colab": {
          "base_uri": "https://localhost:8080/",
          "height": 36
        },
        "id": "_Vl6KiE-n9WS",
        "outputId": "94671df3-e7bc-40f8-8fc2-c91aa7ff54bd"
      },
      "execution_count": null,
      "outputs": [
        {
          "output_type": "execute_result",
          "data": {
            "text/plain": [
              "'hon programming'"
            ],
            "application/vnd.google.colaboratory.intrinsic+json": {
              "type": "string"
            }
          },
          "metadata": {},
          "execution_count": 69
        }
      ]
    },
    {
      "cell_type": "code",
      "source": [
        "## 4. write a code to convert the string \"hello\" to uppercase\n",
        "\n",
        "strng = 'hello'\n",
        "print(strng.upper())"
      ],
      "metadata": {
        "colab": {
          "base_uri": "https://localhost:8080/"
        },
        "id": "hOF6p-bkn9Tu",
        "outputId": "af87ad5c-98dc-43d7-8fc1-73eb9c2ed16f"
      },
      "execution_count": null,
      "outputs": [
        {
          "output_type": "stream",
          "name": "stdout",
          "text": [
            "HELLO\n"
          ]
        }
      ]
    },
    {
      "cell_type": "code",
      "source": [
        "## 5. write a code to replace the word \"apple\" with orange in the string \"I like apple\"\n",
        "\n",
        "sen = \"I like apple\"\n",
        "print('Sentence before changes ', sen)\n",
        "replaced_sen = sen.replace('apple','orange')\n",
        "print(\"Sentence after changes: \",replaced_sen)"
      ],
      "metadata": {
        "colab": {
          "base_uri": "https://localhost:8080/"
        },
        "id": "rJOixyfFn9Rd",
        "outputId": "677aecc7-e131-4e65-ae1d-da7215c7b24e"
      },
      "execution_count": null,
      "outputs": [
        {
          "output_type": "stream",
          "name": "stdout",
          "text": [
            "Sentence before changes  I like apple\n",
            "Sentence after changes:  I like orange\n"
          ]
        }
      ]
    },
    {
      "cell_type": "code",
      "source": [
        "## 6. write a codee to create a list with number 1 to 5 and print it\n",
        "\n",
        "ls = [1,2,3,4,5]"
      ],
      "metadata": {
        "id": "nYZ5W9Frn9PI"
      },
      "execution_count": null,
      "outputs": []
    },
    {
      "cell_type": "code",
      "source": [
        "## 7. write a code to append the number 10 to the list [1,2,3,4]\n",
        "\n",
        "listt = [1,2,3,4]\n",
        "print(\"List before: \",listt)\n",
        "listt.append(10)\n",
        "print(\"List After: \",listt)"
      ],
      "metadata": {
        "colab": {
          "base_uri": "https://localhost:8080/"
        },
        "id": "Tq6ggar8n9Mz",
        "outputId": "c2282880-811a-4e4b-d695-395204ae0847"
      },
      "execution_count": null,
      "outputs": [
        {
          "output_type": "stream",
          "name": "stdout",
          "text": [
            "List before:  [1, 2, 3, 4]\n",
            "List After:  [1, 2, 3, 4, 10]\n"
          ]
        }
      ]
    },
    {
      "cell_type": "code",
      "source": [
        "## 8. write a code to remove the number 3 from the list [1,2,3,4,5]\n",
        "\n",
        "list1 = [1,2,3,4,5]\n",
        "\n",
        "list1.remove(3)\n",
        "print(list1)"
      ],
      "metadata": {
        "colab": {
          "base_uri": "https://localhost:8080/"
        },
        "id": "3ZK-aDhwn9Kp",
        "outputId": "7be5f618-0d1a-423f-d5d2-9fdb53ad5d73"
      },
      "execution_count": null,
      "outputs": [
        {
          "output_type": "stream",
          "name": "stdout",
          "text": [
            "[1, 2, 4, 5]\n"
          ]
        }
      ]
    },
    {
      "cell_type": "code",
      "source": [
        "## 9. write a code to access the second element in the list ['a','b','c','d']\n",
        "\n",
        "lis_ = ['a','b','c','d']\n",
        "print(\"The second item in the list: \",lis_[1])"
      ],
      "metadata": {
        "colab": {
          "base_uri": "https://localhost:8080/"
        },
        "id": "XQhjNRDuo3Yd",
        "outputId": "ae4f6745-d05c-48cf-ee9c-06bf903754ac"
      },
      "execution_count": null,
      "outputs": [
        {
          "output_type": "stream",
          "name": "stdout",
          "text": [
            "The second item in the list:  b\n"
          ]
        }
      ]
    },
    {
      "cell_type": "code",
      "source": [
        "## 10. write a code to reverse the list [10,20,30,40,50]\n",
        "\n",
        "lis1 = [10,20,30,40,50]\n",
        "\n",
        "print(\"Reversed list: \",lis1[::-1])"
      ],
      "metadata": {
        "colab": {
          "base_uri": "https://localhost:8080/"
        },
        "id": "xu9WUXDhpB8N",
        "outputId": "71ab7e2d-a8d8-4fbd-9cc1-83dadc425484"
      },
      "execution_count": null,
      "outputs": [
        {
          "output_type": "stream",
          "name": "stdout",
          "text": [
            "Reversed list:  [50, 40, 30, 20, 10]\n"
          ]
        }
      ]
    },
    {
      "cell_type": "code",
      "source": [
        "## 11. write a code to create a tuple with the elements 10,20,30 and print it\n",
        "\n",
        "tuple__ = (10,20,30)\n",
        "print(tuple__)"
      ],
      "metadata": {
        "colab": {
          "base_uri": "https://localhost:8080/"
        },
        "id": "6SzkbPGXpImJ",
        "outputId": "7cc2fe6b-40c6-4bc1-830a-36896fac24ba"
      },
      "execution_count": null,
      "outputs": [
        {
          "output_type": "stream",
          "name": "stdout",
          "text": [
            "(10, 20, 30)\n"
          ]
        }
      ]
    },
    {
      "cell_type": "code",
      "source": [
        "## 12. write a code to access the first element of the tuple ('apple','banana','cherry')\n",
        "\n",
        "tuple1 = ('apple','banana','cherry')\n",
        "tuple1[0]"
      ],
      "metadata": {
        "colab": {
          "base_uri": "https://localhost:8080/",
          "height": 36
        },
        "id": "YFLcYtCbpOdu",
        "outputId": "46093d70-aafa-48d5-8811-75cf21173297"
      },
      "execution_count": null,
      "outputs": [
        {
          "output_type": "execute_result",
          "data": {
            "text/plain": [
              "'apple'"
            ],
            "application/vnd.google.colaboratory.intrinsic+json": {
              "type": "string"
            }
          },
          "metadata": {},
          "execution_count": 41
        }
      ]
    },
    {
      "cell_type": "code",
      "source": [
        "## 13. write a code to count how many times the number 2 appears in the tuple(1,2,3,2,4,2)\n",
        "\n",
        "num1 = (1,2,3,2,4,2)\n",
        "\n",
        "num_count1 = num1.count(2)\n",
        "print(\"The count of number 2 is: \",num_count1)"
      ],
      "metadata": {
        "colab": {
          "base_uri": "https://localhost:8080/"
        },
        "id": "YW9KkJqqpZQZ",
        "outputId": "10eaaae5-0526-4571-8528-a8b86df9a39d"
      },
      "execution_count": null,
      "outputs": [
        {
          "output_type": "stream",
          "name": "stdout",
          "text": [
            "The count of number 2 is:  3\n"
          ]
        }
      ]
    },
    {
      "cell_type": "code",
      "source": [
        "## 14. write a code to find the index of the element \"cat\" in the tuple ('dog,'cat','rabbit')\n",
        "\n",
        "animals1 = ('dog','cat','rabbit')\n",
        "\n",
        "find_index1 = animals1.index('cat')\n",
        "\n",
        "print(\"the index number of cat is: \",find_index1)\n"
      ],
      "metadata": {
        "colab": {
          "base_uri": "https://localhost:8080/"
        },
        "id": "tbpeVGsrpri5",
        "outputId": "9b7e7432-90b9-41d2-c021-66fd8670c0de"
      },
      "execution_count": null,
      "outputs": [
        {
          "output_type": "stream",
          "name": "stdout",
          "text": [
            "the index number of cat is:  1\n"
          ]
        }
      ]
    },
    {
      "cell_type": "code",
      "source": [
        "## 15. write a code to check if the element \"banana\"  is in the tuple ('apple','orange','banana')\n",
        "\n",
        "fruits2 = ('apple','orange','banana')\n",
        "\n",
        "if \"banana\" in fruits2:\n",
        "  print(\"Banana is present\")"
      ],
      "metadata": {
        "colab": {
          "base_uri": "https://localhost:8080/"
        },
        "id": "I2bcsHNCqtf6",
        "outputId": "cc16dc04-ef5c-4a9a-b9c8-7e0bce0af7b8"
      },
      "execution_count": null,
      "outputs": [
        {
          "output_type": "stream",
          "name": "stdout",
          "text": [
            "Banana is present\n"
          ]
        }
      ]
    },
    {
      "cell_type": "code",
      "source": [
        "## 16 write a code to create a set with the element 1,2,3,4,5 and print it\n",
        "\n",
        "set_num1 = {1,2,3,4,5}\n",
        "print(set_num1)"
      ],
      "metadata": {
        "id": "VXO0JYCorMgA"
      },
      "execution_count": null,
      "outputs": []
    },
    {
      "cell_type": "code",
      "source": [
        "## 17. write a code to add the element 6 to the set {1,2,3,4}\n",
        "\n",
        "my_set1 = {1,2,3,4}\n",
        "print(\"Set before adding the element: \",my_set1)\n",
        "\n",
        "my_set1.add(6)\n",
        "print(\"Set after adding the element: \",my_set1)"
      ],
      "metadata": {
        "colab": {
          "base_uri": "https://localhost:8080/"
        },
        "id": "lfmRQEZIqtcY",
        "outputId": "bb2cf361-bb3a-4c58-d548-95740328fead"
      },
      "execution_count": null,
      "outputs": [
        {
          "output_type": "stream",
          "name": "stdout",
          "text": [
            "Set before adding the element:  {1, 2, 3, 4}\n",
            "Set after adding the element:  {1, 2, 3, 4, 6}\n"
          ]
        }
      ]
    },
    {
      "cell_type": "code",
      "source": [
        "## 18. write a code to create a tuple with the elements 10,20,30 and print it\n",
        "\n",
        "tuple_ = (10,20,30)\n",
        "print(tuple_)"
      ],
      "metadata": {
        "colab": {
          "base_uri": "https://localhost:8080/"
        },
        "id": "ORJJCX7lqtac",
        "outputId": "fae32f6a-76bb-451b-a196-8ebcd02c5194"
      },
      "execution_count": null,
      "outputs": [
        {
          "output_type": "stream",
          "name": "stdout",
          "text": [
            "(10, 20, 30)\n"
          ]
        }
      ]
    },
    {
      "cell_type": "code",
      "source": [
        "## 19. write a code to access the first element of the tuple ('apple','banana','cherry')\n",
        "\n",
        "fruits1 = ('apple','banana','cherry')\n",
        "fruits1[0]"
      ],
      "metadata": {
        "colab": {
          "base_uri": "https://localhost:8080/",
          "height": 36
        },
        "id": "VXTbWAWJqtYO",
        "outputId": "c04e027b-b63f-46bf-ecea-671367206029"
      },
      "execution_count": null,
      "outputs": [
        {
          "output_type": "execute_result",
          "data": {
            "text/plain": [
              "'apple'"
            ],
            "application/vnd.google.colaboratory.intrinsic+json": {
              "type": "string"
            }
          },
          "metadata": {},
          "execution_count": 34
        }
      ]
    },
    {
      "cell_type": "code",
      "source": [
        "## 20. write a code to count how many times the number 2 appears in the tuple (1,2,3,2,4,2)\n",
        "\n",
        "num = (1,2,3,2,4,2)\n",
        "\n",
        "num_count = num.count(2)\n",
        "print(\"The count of number 2 is: \",num_count)"
      ],
      "metadata": {
        "colab": {
          "base_uri": "https://localhost:8080/"
        },
        "id": "gyYRDZKBsIw8",
        "outputId": "12ac685f-5164-4682-b009-7dc774b0e8a9"
      },
      "execution_count": null,
      "outputs": [
        {
          "output_type": "stream",
          "name": "stdout",
          "text": [
            "The count of number 2 is:  3\n"
          ]
        }
      ]
    },
    {
      "cell_type": "code",
      "source": [
        "## 21. write a code to find the index of the element 'cat' in the tuple ('dog,'cat','rabbit')\n",
        "\n",
        "animals = ('dog','cat','rabbit')\n",
        "\n",
        "find_index = animals.index('cat')\n",
        "\n",
        "print(\"the index number of cat is: \",find_index)"
      ],
      "metadata": {
        "colab": {
          "base_uri": "https://localhost:8080/"
        },
        "id": "K6n8jIUzsTCb",
        "outputId": "5a2c2d26-3be5-4614-ebf3-eaf45cce686f"
      },
      "execution_count": null,
      "outputs": [
        {
          "output_type": "stream",
          "name": "stdout",
          "text": [
            "the index number of cat is:  1\n"
          ]
        }
      ]
    },
    {
      "cell_type": "code",
      "source": [
        "## 22. write a code to check if the element 'banana' is in the tuple ('apple','orange','banana')\n",
        "\n",
        "fruits = ('apple','orange','banana')\n",
        "\n",
        "if \"banana\" in fruits:\n",
        "  print(\"Banana is present\")"
      ],
      "metadata": {
        "colab": {
          "base_uri": "https://localhost:8080/"
        },
        "id": "NwtFs9g3ysNZ",
        "outputId": "8b6503d3-4f29-416e-cf16-c3bae20cd0de"
      },
      "execution_count": null,
      "outputs": [
        {
          "output_type": "stream",
          "name": "stdout",
          "text": [
            "Banana is present\n"
          ]
        }
      ]
    },
    {
      "cell_type": "code",
      "source": [
        "## 23. write a code to create a set with the elements 1,2,3,4,5 and print\n",
        "\n",
        "set_num = {1,2,3,4,5}\n",
        "print(set_num)"
      ],
      "metadata": {
        "colab": {
          "base_uri": "https://localhost:8080/"
        },
        "id": "69Ua7h-hy-R8",
        "outputId": "07bc9d84-c25e-4a89-ef07-366916197c93"
      },
      "execution_count": null,
      "outputs": [
        {
          "output_type": "stream",
          "name": "stdout",
          "text": [
            "{1, 2, 3, 4, 5}\n"
          ]
        }
      ]
    },
    {
      "cell_type": "code",
      "source": [
        "## 24. write a code to add the element 6 in the set {1,2,3,4}\n",
        "\n",
        "my_set = {1,2,3,4}\n",
        "print(\"Set before adding the element: \",my_set)\n",
        "\n",
        "my_set.add(6)\n",
        "print(\"Set after adding the element: \",my_set)"
      ],
      "metadata": {
        "colab": {
          "base_uri": "https://localhost:8080/"
        },
        "id": "L9o9GNAgzOP1",
        "outputId": "83a1dec9-0258-4ba5-dea2-d667e906886b"
      },
      "execution_count": null,
      "outputs": [
        {
          "output_type": "stream",
          "name": "stdout",
          "text": [
            "Set before adding the element:  {1, 2, 3, 4}\n",
            "Set after adding the element:  {1, 2, 3, 4, 6}\n"
          ]
        }
      ]
    },
    {
      "cell_type": "code",
      "source": [],
      "metadata": {
        "id": "cR42EF5P0IPz"
      },
      "execution_count": null,
      "outputs": []
    }
  ]
}